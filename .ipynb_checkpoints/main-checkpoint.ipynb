{
 "cells": [
  {
   "cell_type": "code",
   "execution_count": null,
   "metadata": {},
   "outputs": [],
   "source": [
    "!pip install torch"
   ]
  },
  {
   "cell_type": "code",
   "execution_count": null,
   "metadata": {
    "id": "KPQVzPR_PZJd",
    "scrolled": true
   },
   "outputs": [],
   "source": [
    "\n",
    "import os\n",
    "import numpy as np\n",
    "import torch\n",
    "import torch.nn as nn\n",
    "import matplotlib.pyplot as plt\n",
    "import matplotlib.image as mpimg\n",
    "%matplotlib inline\n"
   ]
  },
  {
   "cell_type": "code",
   "execution_count": null,
   "metadata": {
    "id": "N0_b9X1RPsvv"
   },
   "outputs": [],
   "source": [
    "\n",
    "def getdata(path):\n",
    "  data = torch.tensor([])\n",
    "  file_list = os.listdir(path)\n",
    "  for file_name in file_list[:350]:\n",
    "    image_path = os.path.join(path, file_name)\n",
    "    image = mpimg.imread(image_path)\n",
    "    imageData = torch.from_numpy(np.array(image)).long()\n",
    "    data = torch.cat((data, imageData.unsqueeze(0)), dim=0)\n",
    "  return data\n",
    "\n",
    "#\n",
    "pizza_path = './pizza_vs_not/pizza'\n",
    "not_pizza_path = './pizza_vs_not/not_pizza'\n",
    "#\n",
    "\n",
    "not_pizza_data = getdata(not_pizza_path)\n",
    "pizza_data = getdata(pizza_path)\n"
   ]
  },
  {
   "cell_type": "code",
   "execution_count": null,
   "metadata": {
    "colab": {
     "base_uri": "https://localhost:8080/",
     "height": 449
    },
    "id": "GcjV3GZLP8-d",
    "outputId": "56fe7ec9-a6a8-42b1-f375-88ebeb199be3"
   },
   "outputs": [],
   "source": [
    "\n",
    "# Change values of index, data\n",
    "#\n",
    "index = 22 # 0 to 349\n",
    "data =pizza_data # pizza_data (or) not_pizza_data\n",
    "#\n",
    "\n",
    "plt.imshow(data[index].int())"
   ]
  },
  {
   "cell_type": "code",
   "execution_count": null,
   "metadata": {
    "colab": {
     "base_uri": "https://localhost:8080/"
    },
    "id": "TvBfkCDpQ-m_",
    "outputId": "25a63c04-45d6-415a-b189-a61565ca9ded"
   },
   "outputs": [],
   "source": [
    "\n",
    "train_data = torch.cat((pizza_data[:300], not_pizza_data[:200]), dim = 0)\n",
    "test_data = torch.cat((pizza_data[300:350], not_pizza_data[200:250]), dim = 0)\n",
    "print(train_data.shape)\n"
   ]
  },
  {
   "cell_type": "code",
   "execution_count": null,
   "metadata": {
    "colab": {
     "base_uri": "https://localhost:8080/"
    },
    "id": "NllDFOtXfNb_",
    "outputId": "f9161030-32f5-4136-aa10-034a0db1fe00"
   },
   "outputs": [],
   "source": [
    "\n",
    "#\n",
    "\n",
    "reshaped_test_data = torch.tensor([])\n",
    "reshaped_train_data = torch.tensor([])\n",
    "iteration=0\n",
    "for data in train_data:\n",
    "    iteration+=1\n",
    "    DATA = torch.tensor(data.flatten())\n",
    "    reshaped_tensor_1d = DATA.unsqueeze(0)\n",
    "    if iteration==1:\n",
    "      reshaped_train_data=DATA\n",
    "    elif iteration==2:\n",
    "      reshaped_train_data = torch.stack((reshaped_train_data,DATA), dim=0)\n",
    "    else:\n",
    "      reshaped_train_data = torch.cat((reshaped_train_data,reshaped_tensor_1d), dim=0)\n",
    "\n",
    "\n",
    "\n",
    "iteration=0\n",
    "for data in test_data:\n",
    "    iteration+=1\n",
    "    DATA = torch.tensor(data.flatten())\n",
    "    reshaped_tensor_1d = DATA.unsqueeze(0)\n",
    "    if iteration==1:\n",
    "      reshaped_test_data=DATA\n",
    "    elif iteration==2:\n",
    "      reshaped_test_data = torch.stack((reshaped_test_data,DATA), dim=0)\n",
    "    else:\n",
    "      reshaped_test_data = torch.cat((reshaped_test_data,reshaped_tensor_1d), dim=0)\n",
    "\n",
    "\n",
    "final_train_data =torch.mul(reshaped_train_data,1/255)\n",
    "final_test_data =torch.mul(reshaped_test_data,1/255)\n",
    "\n",
    "#\n",
    "\n",
    "print(final_train_data.shape, final_test_data.shape)\n",
    "\n"
   ]
  },
  {
   "cell_type": "code",
   "execution_count": null,
   "metadata": {
    "colab": {
     "base_uri": "https://localhost:8080/"
    },
    "id": "0CEUir2jjHx6",
    "outputId": "7f1967d3-af05-4fe0-975c-05cf7a43238e"
   },
   "outputs": [],
   "source": [
    "\n",
    "#\n",
    "\n",
    "train_labels =torch.cat((torch.ones(300),torch.zeros(200)),dim=0)\n",
    "\n",
    "test_labels =torch.cat((torch.ones(50),torch.zeros(50)),dim=0)\n",
    "train_labels = train_labels.unsqueeze(1)\n",
    "test_labels = test_labels.unsqueeze(1)\n",
    "#\n",
    "\n",
    "print(train_labels.shape, test_labels.shape)"
   ]
  },
  {
   "cell_type": "code",
   "execution_count": null,
   "metadata": {
    "id": "cF8VHdKlmu_Q"
   },
   "outputs": [],
   "source": [
    "\n",
    "#\n",
    "\n",
    "D_in =12288\n",
    "H1 =10\n",
    "H2 =12\n",
    "D_out =1\n",
    "\n",
    "#"
   ]
  },
  {
   "cell_type": "code",
   "execution_count": null,
   "metadata": {
    "id": "OcHFpRZju3dp"
   },
   "outputs": [],
   "source": [
    "\n",
    "\n",
    "model = torch.nn.Sequential(\n",
    "    # Do not hard-code any values, use the variables from the previous cell\n",
    "    #\n",
    "\n",
    "    #\n",
    "    torch.nn.Linear(D_in, H1),\n",
    "    torch.nn.ReLU(),\n",
    "    torch.nn.Linear(H1, H2),\n",
    "    torch.nn.ReLU(),\n",
    "    torch.nn.Linear(H2, D_out),\n",
    "    torch.nn.Sigmoid(),\n",
    "\n",
    ")"
   ]
  },
  {
   "cell_type": "code",
   "execution_count": null,
   "metadata": {
    "colab": {
     "base_uri": "https://localhost:8080/"
    },
    "id": "lONsp7GnwGao",
    "outputId": "b7506f26-988a-49bc-a74b-d3ff4ecef239"
   },
   "outputs": [],
   "source": [
    "final_train_data.shape"
   ]
  },
  {
   "cell_type": "code",
   "execution_count": null,
   "metadata": {
    "colab": {
     "base_uri": "https://localhost:8080/"
    },
    "id": "w5zisR9jwTrM",
    "outputId": "8dcbbbad-6cc3-4f20-8e11-f8908fe28926"
   },
   "outputs": [],
   "source": [
    "\n",
    "loss_fn = nn.BCELoss()\n",
    "\n",
    "#\n",
    "\n",
    "learning_rate = 0.005\n",
    "iterations = 10000\n",
    "\n",
    "for t in range(iterations):\n",
    "\n",
    "    # call the model on the dataset\n",
    "    y_pred =model(final_train_data)\n",
    "    #calculate the loss\n",
    "    loss = loss_fn(y_pred, train_labels)\n",
    "\n",
    "    if t%1000 == 1:\n",
    "      print(loss)\n",
    "\n",
    "\n",
    "    #calculate the gradients (dont forget to reset the gradients before you begin)\n",
    "    optimizer = torch.optim.SGD(model.parameters(), lr=learning_rate)\n",
    "    # Backward pass\n",
    "    optimizer.zero_grad()  # Clear gradients\n",
    "    loss.backward()  # Compute gradients\n",
    "    with torch.no_grad():\n",
    "      optimizer.step()  # Update parameters\n",
    "#\n",
    "\n",
    "torch.save(model, 'model_best.pt')"
   ]
  },
  {
   "cell_type": "code",
   "execution_count": null,
   "metadata": {
    "colab": {
     "base_uri": "https://localhost:8080/",
     "height": 449
    },
    "id": "Q8ofUQxS8qil",
    "outputId": "5d0aa455-b9ce-4803-eaaf-de777970cc98"
   },
   "outputs": [],
   "source": [
    "\n",
    "# Change values of index\n",
    "#\n",
    "index = 6 #0 to 99\n",
    "#\n",
    "\n",
    "plt.imshow(test_data[index].int())\n",
    "print (f'According to the neural network, index = {index} is {\"a pizza\" if model(final_test_data[index]) > 0.5 else \"not a pizza\"}')"
   ]
  },
  {
   "cell_type": "code",
   "execution_count": null,
   "metadata": {
    "id": "FTZLYvSp9adn"
   },
   "outputs": [],
   "source": [
    "def predict(model, data, labels):\n",
    "\n",
    "    probabilities = model(data)\n",
    "\n",
    "    #\n",
    "\n",
    "    # generate the predictions tensor using the probabilities variable, which indicates the prediction made by the model for the given data using 0 and 1\n",
    "\n",
    "    predictions = torch.round(probabilities)\n",
    "\n",
    "    #\n",
    "\n",
    "    print(\"Accuracy: \"  + str(torch.sum((predictions == labels)).item()/predictions.shape[0]))\n"
   ]
  },
  {
   "cell_type": "code",
   "execution_count": null,
   "metadata": {
    "colab": {
     "base_uri": "https://localhost:8080/"
    },
    "id": "vPZ6tOQLCXeH",
    "outputId": "2f6dba86-c238-461e-fea4-ef147880ef9b"
   },
   "outputs": [],
   "source": [
    "\n",
    "predict(model, final_train_data, train_labels)\n",
    "predict(model,final_test_data,test_labels)\n",
    "print(\"Done!\")\n"
   ]
  },
  {
   "cell_type": "code",
   "execution_count": null,
   "metadata": {},
   "outputs": [],
   "source": []
  }
 ],
 "metadata": {
  "colab": {
   "provenance": []
  },
  "kernelspec": {
   "display_name": "Python 3 (ipykernel)",
   "language": "python",
   "name": "python3"
  },
  "language_info": {
   "codemirror_mode": {
    "name": "ipython",
    "version": 3
   },
   "file_extension": ".py",
   "mimetype": "text/x-python",
   "name": "python",
   "nbconvert_exporter": "python",
   "pygments_lexer": "ipython3",
   "version": "3.9.16"
  }
 },
 "nbformat": 4,
 "nbformat_minor": 1
}
